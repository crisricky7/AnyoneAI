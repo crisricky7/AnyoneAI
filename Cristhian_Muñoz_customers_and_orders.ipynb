{
  "cells": [
    {
      "cell_type": "markdown",
      "metadata": {
        "id": "view-in-github",
        "colab_type": "text"
      },
      "source": [
        "<a href=\"https://colab.research.google.com/github/crisricky7/AnyoneAI/blob/main/Cristhian_Mu%C3%B1oz_customers_and_orders.ipynb\" target=\"_parent\"><img src=\"https://colab.research.google.com/assets/colab-badge.svg\" alt=\"Open In Colab\"/></a>"
      ]
    },
    {
      "cell_type": "markdown",
      "metadata": {
        "id": "piiX_CRNFYUi"
      },
      "source": [
        "# Technical Challenge ! Custiomers and Orders - The lifeblood of any business!\n",
        "\n",
        "This notebook depends on two data files: customers.scv and orders.csv. These files are hosted in the cloud (or Github), so for simplicity, we are providing you with the code to download and save the two files in a folder called 'sample_data' which lives within this notebook session (not on your local computer nor Google Drive).\n",
        "\n",
        "![sample_data folder in notebook session](https://raw.githubusercontent.com/anyoneai/notebooks/main/customers_and_orders/images/sample_data_folder.png)\n",
        "\n",
        "Please execute the first code snippet before moving to the rest of the exercise as this code will import the data from the files for you to be able to execute the rest of the exercise.\n",
        "\n",
        "Remember as we said in the previous lecture, you have to save this notebook into your Google Drive by going to menu File/Save a Copy In Drive, or clicking in the button \"Copy to Drive\". This way, you will not lose any work you've done and the file will persist with your latest changes in your Google Drive. Also we recommend you to rename your .ipynb in your Google Drive, so you can easily find it in the future."
      ]
    },
    {
      "cell_type": "code",
      "execution_count": 1,
      "metadata": {
        "colab": {
          "base_uri": "https://localhost:8080/"
        },
        "id": "MWpVO242FQHC",
        "outputId": "6ff6288d-e979-4df5-fb0a-c4c30ff6f97c"
      },
      "outputs": [
        {
          "output_type": "stream",
          "name": "stdout",
          "text": [
            "Customers and orders CSV files have been added './sample_data'\n"
          ]
        }
      ],
      "source": [
        "import requests\n",
        "\n",
        "def import_data_files():\n",
        "  r = requests.get('https://raw.githubusercontent.com/anyoneai/notebooks/main/customers_and_orders/data/customers.csv')\n",
        "  with open('./sample_data/customers.csv', 'wb') as f:\n",
        "    f.write(r.content)\n",
        "\n",
        "  r = requests.get('https://raw.githubusercontent.com/anyoneai/notebooks/main/customers_and_orders/data/orders.csv')\n",
        "  with open('./sample_data/orders.csv', 'wb') as f:\n",
        "    f.write(r.content)\n",
        "\n",
        "import_data_files()\n",
        "print(\"Customers and orders CSV files have been added './sample_data'\")"
      ]
    },
    {
      "cell_type": "markdown",
      "metadata": {
        "id": "JQAduY-RWKyB"
      },
      "source": [
        "# Exercise 1: Processing Customers data (difficulty medium)\n",
        "\n",
        "The sample customer data in 'customers.csv' file has just 5 columns: CustomerId, First Name, Last Name, City and State\n",
        "\n",
        "![Data sample](https://raw.githubusercontent.com/anyoneai/notebooks/main/customers_and_orders/images/customers.png)\n",
        "\n",
        "We strongly recommend that you complete from the [Prep Course: Intro to Python](https://colab.research.google.com/github/anyoneai/notebooks/blob/main/python3_crash_course.ipynb) the following section:\n",
        "- Section 7: File I/O (to understand how to read CSV file)\n",
        "- Section 6: For Loop (to navigate the contents of the CSV file)\n",
        "- Section 5: Tuples, Lists, and Dictionaries (to manipulate the data of the CSV file)\n",
        "\n",
        "With this, we hope you can complete this exercise successfully. Although if you want to solve this with libraries or any other way, you are welcome to do it your way.\n",
        "\n",
        "*Hint:* We advise you to take a look at the data before you start.\n",
        "**if you want to manually take a look at the data before you start, please see the content of the data [here](https://github.com/anyoneai/notebooks/blob/main/customers_and_orders/data/customers.csv).\n",
        "\n",
        "*Hint*: There are many ways to do this exercise you can do your own, although here's some help. You can solve this exercise reading and parsing CSV files, structuring data into dictionaries, and using for loops to navigate the contents\n",
        "\n",
        "*Hint*: Also, keep in mind that data might not be clean and you might have to figure out how to deal with that data from the code, without having to modify the data source.\n",
        "\n",
        "Below are the 5 questions you'll have to answer to pass the evaluation:"
      ]
    },
    {
      "cell_type": "code",
      "source": [],
      "metadata": {
        "id": "vQQXQPRvaRV4"
      },
      "execution_count": null,
      "outputs": []
    },
    {
      "cell_type": "code",
      "source": [],
      "metadata": {
        "id": "4CWeO8B7aS3V"
      },
      "execution_count": null,
      "outputs": []
    },
    {
      "cell_type": "markdown",
      "metadata": {
        "id": "kJq7S8sBfbOW"
      },
      "source": [
        "**Question 1:** How many customers are in the file?\n",
        "(as help, we have added some comments and starter code to help you structure the solution)"
      ]
    },
    {
      "cell_type": "code",
      "execution_count": 63,
      "metadata": {
        "colab": {
          "base_uri": "https://localhost:8080/"
        },
        "id": "oMnUFBFb2RUb",
        "outputId": "294a4439-6857-4053-9330-8ed783746e8f"
      },
      "outputs": [
        {
          "output_type": "stream",
          "name": "stdout",
          "text": [
            "Clientes: 602\n"
          ]
        }
      ],
      "source": [
        "from os.path import exists\n",
        "import csv\n",
        "\n",
        "# check if file can be found and open the file\n",
        "datafile = \"./sample_data/customers.csv\"\n",
        "linecount = 0\n",
        "if not exists(datafile):\n",
        "  raise SystemExit(\"You should run the first code cell and download the dataset files!\")\n",
        "with open(datafile, 'r') as fl:\n",
        "    csvreader = csv.reader(fl, delimiter=',')  # Separador: coma\n",
        "    headers = next(csvreader)  # Leer la cabecera\n",
        "    for row in csvreader:\n",
        "        linecount += 1\n",
        "print(\"Clientes: %s\"% (linecount))"
      ]
    },
    {
      "cell_type": "markdown",
      "metadata": {
        "id": "uffBnNgz_570"
      },
      "source": [
        "**Question 2:** In how many different states do the customers live in?"
      ]
    },
    {
      "cell_type": "code",
      "execution_count": 82,
      "metadata": {
        "id": "Bi_yid0sMe3-",
        "colab": {
          "base_uri": "https://localhost:8080/"
        },
        "outputId": "dc07f30d-fa1f-40c1-9bac-2212260aecbf"
      },
      "outputs": [
        {
          "output_type": "stream",
          "name": "stdout",
          "text": [
            "Headers: ['CustomerID', 'FirstName', 'LastName', 'City', 'State']\n",
            "Number of unique states: 14\n",
            "States: {'FL', 'WA', 'IN', 'MA', 'ID', 'NH', 'OR', 'CO', 'AZ', 'NV', 'UT', 'CA', 'TX', 'NM'}\n"
          ]
        }
      ],
      "source": [
        "from os.path import exists\n",
        "import csv\n",
        "\n",
        "# Ruta del archivo de datos\n",
        "datafile = \"./sample_data/customers.csv\"\n",
        "states = set()  # Usamos un conjunto para almacenar estados únicos\n",
        "\n",
        "# Verificar si el archivo existe\n",
        "if not exists(datafile):\n",
        "    raise SystemExit(\"You should run the first code cell and download the dataset files!\")\n",
        "\n",
        "# Abrir y procesar el archivo CSV\n",
        "with open(datafile, 'r') as fl:\n",
        "    csvreader = csv.reader(fl, delimiter=',')  # Separador: coma\n",
        "    headers = next(csvreader)  # Leer la cabecera\n",
        "    print(f\"Headers: {headers}\")  # Depuración: Verificar contenido de la cabecera\n",
        "    try:\n",
        "        state_index = headers.index(\"State\")  # Obtener el índice de la columna 'State'\n",
        "    except ValueError:\n",
        "        raise ValueError(\"The 'State' column could not be found. Verify the headers in your file.\")\n",
        "\n",
        "    for row in csvreader:\n",
        "        states.add(row[state_index].upper().strip())  # Agregar el estado al conjunto\n",
        "\n",
        "# Mostrar el número de estados únicos\n",
        "print(f\"Number of unique states: {len(states)}\")\n",
        "print(f\"States: {states}\")\n"
      ]
    },
    {
      "cell_type": "markdown",
      "metadata": {
        "id": "DC59SZYiMfNY"
      },
      "source": [
        "\n",
        "**Question 3** What is the state with most customers?"
      ]
    },
    {
      "cell_type": "code",
      "execution_count": 131,
      "metadata": {
        "id": "tfGU3w-OMhA9",
        "colab": {
          "base_uri": "https://localhost:8080/"
        },
        "outputId": "b093df3b-fcdf-495c-90c3-b7d13bb2cd9a"
      },
      "outputs": [
        {
          "output_type": "stream",
          "name": "stdout",
          "text": [
            "The state with the max customers (569) is:\n",
            "0    CA\n",
            "The state with the most customers is CA with 569 customers.\n"
          ]
        }
      ],
      "source": [
        "from os.path import exists\n",
        "import csv\n",
        "from collections import Counter\n",
        "\n",
        "# Ruta del archivo de datos\n",
        "datafile = \"./sample_data/customers.csv\"\n",
        "\n",
        "# Verificar si el archivo existe\n",
        "if not exists(datafile):\n",
        "    raise SystemExit(\"You should run the first code cell and download the dataset files!\")\n",
        "\n",
        "# Diccionario para almacenar el conteo de clientes por estado\n",
        "state_counts = Counter()\n",
        "\n",
        "# Abrir y procesar el archivo CSV\n",
        "with open(datafile, 'r') as fl:\n",
        "    csvreader = csv.reader(fl, delimiter=',')  # Separador: coma\n",
        "    headers = next(csvreader)  # Leer la cabecera\n",
        "    state_index = headers.index(\"State\")  # Obtener el índice de la columna 'State'\n",
        "\n",
        "    for row in csvreader:\n",
        "        state_counts[row[state_index].upper().strip()] += 1  # Incrementar el conteo para el estado correspondiente\n",
        "\n",
        "info = pd.DataFrame.from_dict({'state': state_counts.keys(), 'num_customers': state_counts.values()})\n",
        "max_customers_state = max(state_counts, key=state_counts.get)\n",
        "max_customers_count = state_counts[max_customers_state]\n",
        "\n",
        "result_state = info[(info['num_customers'] == max_customers_count )]\n",
        "\n",
        "if result_state[\"state\"].count() > 1:\n",
        "  print(f\"The state with the max customers ({max_customers_count}) are :\")\n",
        "else:\n",
        "  print(f\"The state with the max customers ({max_customers_count}) is:\")\n",
        "\n",
        "print(result_state[\"state\"].to_string())"
      ]
    },
    {
      "cell_type": "markdown",
      "metadata": {
        "id": "7mcM6cUAMhLB"
      },
      "source": [
        "**Question 4** What is the state with the least customers?\n",
        "\n",
        "\n"
      ]
    },
    {
      "cell_type": "code",
      "execution_count": 132,
      "metadata": {
        "id": "8T0Ka2RqMi3P",
        "colab": {
          "base_uri": "https://localhost:8080/"
        },
        "outputId": "225a4917-8032-42f0-b988-979399921ac1"
      },
      "outputs": [
        {
          "output_type": "stream",
          "name": "stdout",
          "text": [
            "The state with the min customers (1) are :\n",
            "4     WA\n",
            "5     NH\n",
            "6     ID\n",
            "10    OR\n",
            "12    MA\n",
            "13    IN\n"
          ]
        }
      ],
      "source": [
        "from os.path import exists\n",
        "import csv\n",
        "from collections import Counter\n",
        "import pandas as pd\n",
        "datafile = \"./sample_data/customers.csv\"\n",
        "if not exists(datafile):\n",
        "    raise SystemExit(\"You should run the first code cell and download the dataset files!\")\n",
        "\n",
        "state_counts = Counter()\n",
        "\n",
        "with open(datafile, 'r') as fl:\n",
        "    csvreader = csv.reader(fl, delimiter=',')\n",
        "    headers = next(csvreader)\n",
        "    state_index = headers.index(\"State\")\n",
        "    for row in csvreader:\n",
        "        state_counts[row[state_index].upper().strip()] += 1\n",
        "info = pd.DataFrame.from_dict({'state': state_counts.keys(), 'num_customers': state_counts.values()})\n",
        "min_customers_state = min(state_counts, key=state_counts.get)\n",
        "min_customers_count = state_counts[min_customers_state]\n",
        "\n",
        "result_state = info[(info['num_customers'] == min_customers_count )]\n",
        "\n",
        "if result_state[\"state\"].count() > 1:\n",
        "  print(f\"The state with the min customers ({min_customers_count}) are :\")\n",
        "else:\n",
        "  print(f\"The state with the min customers ({min_customers_count}) is:\")\n",
        "\n",
        "print(result_state[\"state\"].to_string())"
      ]
    },
    {
      "cell_type": "markdown",
      "metadata": {
        "id": "h6fIy7hXHF6A"
      },
      "source": [
        "**Question 5:** What is the most common last name?"
      ]
    },
    {
      "cell_type": "code",
      "execution_count": 144,
      "metadata": {
        "id": "k8M1DmA75Km7",
        "colab": {
          "base_uri": "https://localhost:8080/"
        },
        "outputId": "a3059286-3a2a-4da7-e60d-8c4c0d4a4342"
      },
      "outputs": [
        {
          "output_type": "stream",
          "name": "stdout",
          "text": [
            "The LastName with the max customers are 8 is:\n",
            "7    SMITH\n"
          ]
        }
      ],
      "source": [
        "from os.path import exists\n",
        "import csv\n",
        "from collections import Counter\n",
        "import pandas as pd\n",
        "datafile = \"./sample_data/customers.csv\"\n",
        "if not exists(datafile):\n",
        "    raise SystemExit(\"You should run the first code cell and download the dataset files!\")\n",
        "\n",
        "lastName_counts = Counter()\n",
        "\n",
        "with open(datafile, 'r') as fl:\n",
        "    csvreader = csv.reader(fl, delimiter=',')\n",
        "    headers = next(csvreader)\n",
        "    lastName_index = headers.index(\"LastName\")\n",
        "    for row in csvreader:\n",
        "        lastName_counts[row[lastName_index].upper().strip()] += 1\n",
        "info = pd.DataFrame.from_dict({'LastName': lastName_counts.keys(), 'num_customers': lastName_counts.values()})\n",
        "max_customers_lastName = max(lastName_counts, key=lastName_counts.get)\n",
        "max_customers_lastName_count = lastName_counts[max_customers_lastName]\n",
        "\n",
        "result_LastName = info[(info['num_customers'] == max_customers_lastName_count )]\n",
        "\n",
        "if result_LastName[\"LastName\"].count() > 1:\n",
        "  print(f\"The LastName with the max customers ({max_customers_lastName_count}) are :\")\n",
        "else:\n",
        "  print(f\"The LastName with the max customers are {max_customers_lastName_count} is:\")\n",
        "\n",
        "print(result_LastName[\"LastName\"].to_string())"
      ]
    },
    {
      "cell_type": "markdown",
      "metadata": {
        "id": "YPRma1t9NoFk"
      },
      "source": [
        "# Exercise 2: Processing Orders data (difficulty high)\n",
        "\n",
        "The second sample files contains orders placed by customers from the first file. Be careful, this file has many rows and you most likely should not print the contents of the whole file.\n",
        "\n",
        "The file contains the following columns: CustomerID, OrderID, Date, OrderTotal, ProductName, Price\n",
        "\n",
        "![Data sample](https://raw.githubusercontent.com/anyoneai/notebooks/main/customers_and_orders/images/orders.png)\n",
        "\n",
        "*Hint:* We advise you to take a look at the data before you start.\n",
        "**if you want to manually take a look at the data before you start, please see the content of the data [here](https://raw.githubusercontent.com/anyoneai/notebooks/main/customers_and_orders/data/orders.csv).\n",
        "\n",
        "*Hint*: There are many ways to do this exercise you can do your own, although here's some help. You can solve this exercise reading and parsing CSV files, structuring data into dictionaries, and using for loops to navigate the contents\n",
        "\n",
        "*Hint*: Also, the data is not clean and you will have to figure out how to deal with that data from the code, without having to modify the data source.\n",
        "\n",
        "\n",
        "\n",
        "**Question #1:** How many unique orders are in the orders.csv file?\n",
        "\n",
        "**Question #2:** What is the average number of items per order (rounded to two decimal places)?\n",
        "\n",
        "**Question #3:** What is the highest number of items per order?\n",
        "\n",
        "**Question #4:** What is the number of orders placed in October 2021?\n",
        "\n",
        "**Question #5:** Which customer spent the most amount of money in 2021?\n",
        "\n",
        "**Question #6:** Historically, what is the best month for sales?\n",
        "\n",
        "Once you get your answers, remember to go back to the course and introduce them in the multiple choice quiz"
      ]
    },
    {
      "cell_type": "code",
      "execution_count": 162,
      "metadata": {
        "id": "8ipJTrfs5QVM",
        "colab": {
          "base_uri": "https://localhost:8080/"
        },
        "outputId": "a20237a3-509f-4855-bea3-dadc8304479a"
      },
      "outputs": [
        {
          "output_type": "stream",
          "name": "stdout",
          "text": [
            "Pregunta #1: Número de OrderID únicos: 16672\n",
            "Pregunta #2: Número promedio de artículos por pedido: 1.76\n",
            "Pregunta #3: El número más alto de artículos por pedido es: 35\n",
            "Pregunta #4: Número de pedidos realizados en octubre de 2021: 267\n",
            "Pregunta #5: El cliente que gastó más en 2021 es el Cliente: Brandon Divas ID: 5172443 con un total de $7755.00\n",
            "Pregunta #6: Históricamente, el mejor mes en ventas es January con un total de $292908.00\n",
            "\n",
            "Bonus: Históricamente, el mejor mes y año en ventas es 2022-01 con un total de $81268.00\n"
          ]
        }
      ],
      "source": [
        "import pandas as pd\n",
        "\n",
        "datafile = \"./sample_data/orders.csv\"\n",
        "datafile2 = \"./sample_data/customers.csv\"\n",
        "\n",
        "if not exists(datafile):\n",
        "    raise SystemExit(\"¡Debes ejecutar la primera celda de código y descargar los archivos del conjunto de datos de ordenes!\")\n",
        "if not exists(datafile2):\n",
        "    raise SystemExit(\"¡Debes ejecutar la primera celda de código y descargar los archivos del conjunto de datos de clientes!\")\n",
        "df2 = pd.read_csv(datafile2)\n",
        "\n",
        "# Leer el archivo CSV\n",
        "df = pd.read_csv(datafile)\n",
        "\n",
        "# Verificar que las columnas necesarias existen\n",
        "required_columns = ['OrderID', 'ProductName', 'OrderTotal', 'Price']\n",
        "missing_columns = set(required_columns) - set(df.columns)\n",
        "if missing_columns:\n",
        "    raise ValueError(f\"Las siguientes columnas requeridas faltan en los datos: {missing_columns}\")\n",
        "\n",
        "# Convertir 'OrderTotal' y 'Price' a numérico\n",
        "df['OrderTotal'] = pd.to_numeric(df['OrderTotal'], errors='coerce')\n",
        "df['Price'] = pd.to_numeric(df['Price'], errors='coerce')\n",
        "\n",
        "# Eliminar filas con NaN en 'OrderTotal' o 'Price'\n",
        "df = df.dropna(subset=['OrderTotal', 'Price'])\n",
        "\n",
        "# Filtrar filas donde 'OrderTotal' y 'Price' sean diferentes de cero\n",
        "df = df[(df['OrderTotal'] != 0) & (df['Price'] != 0)]\n",
        "\n",
        "# Leer el archivo CSV con pandas\n",
        "try:\n",
        "    df = pd.read_csv(datafile)\n",
        "except Exception as e:\n",
        "    raise SystemExit(f\"Error al leer el archivo CSV: {e}\")\n",
        "\n",
        "# Eliminar espacios en 'OrderID' si es una columna de tipo cadena\n",
        "df['OrderID'] = df['OrderID'].astype(str).str.strip()\n",
        "#Obtener el número de OrderID únicos\n",
        "unique_order_ids = df['OrderID'].nunique()\n",
        "print(f\"Pregunta #1: Número de OrderID únicos: {unique_order_ids}\")\n",
        "\n",
        "# Calcular el número de artículos por pedido\n",
        "# Asumimos que cada fila representa un artículo individual en el pedido\n",
        "items_per_order = df.groupby('OrderID').size()\n",
        "\n",
        "# Calcular el promedio de artículos por pedido\n",
        "average_items_per_order = items_per_order.mean()\n",
        "average_items_per_order = round(average_items_per_order, 2)\n",
        "\n",
        "print(f\"Pregunta #2: Número promedio de artículos por pedido: {average_items_per_order}\")\n",
        "\n",
        "# Encontrar el número máximo de artículos en un solo pedido\n",
        "max_items_per_order = items_per_order.max()\n",
        "\n",
        "print(f\"Pregunta #3: El número más alto de artículos por pedido es: {max_items_per_order}\")\n",
        "\n",
        "# Verificar que la columna 'Date' existe\n",
        "if 'Date' not in df.columns:\n",
        "    raise ValueError(\"La columna 'Date' no está presente en los datos.\")\n",
        "\n",
        "# Convertir la columna 'Date' a tipo datetime\n",
        "df['Date'] = pd.to_datetime(df['Date'], errors='coerce')\n",
        "df = df.dropna(subset=['Date'])\n",
        "\n",
        "# Filtrar pedidos de octubre de 2021\n",
        "october_2021_orders = df[(df['Date'].dt.year == 2021) & (df['Date'].dt.month == 10)]\n",
        "\n",
        "# Obtener el número de 'OrderID' únicos en octubre de 2021\n",
        "num_october_orders = october_2021_orders['OrderID'].nunique()\n",
        "\n",
        "print(f\"Pregunta #4: Número de pedidos realizados en octubre de 2021: {num_october_orders}\")\n",
        "\n",
        "# Verificar que las columnas necesarias existen\n",
        "required_columns = ['CustomerID', 'OrderID', 'Date', 'OrderTotal']\n",
        "missing_columns = set(required_columns) - set(df.columns)\n",
        "if missing_columns:\n",
        "    raise ValueError(f\"Las siguientes columnas requeridas faltan en los datos: {missing_columns}\")\n",
        "\n",
        "# Convertir 'Date' a tipo datetime y eliminar fechas inválidas\n",
        "df['Date'] = pd.to_datetime(df['Date'], errors='coerce')\n",
        "df = df.dropna(subset=['Date'])\n",
        "\n",
        "# Filtrar los pedidos realizados en 2021\n",
        "df_2021 = df[df['Date'].dt.year == 2021]\n",
        "\n",
        "# Obtener pedidos únicos para evitar duplicados en 'OrderTotal'\n",
        "unique_orders_2021 = df_2021[['OrderID', 'CustomerID', 'OrderTotal']].drop_duplicates()\n",
        "\n",
        "# Convertir 'OrderTotal' a numérico si no lo hemos hecho\n",
        "unique_orders_2021['OrderTotal'] = pd.to_numeric(unique_orders_2021['OrderTotal'], errors='coerce')\n",
        "unique_orders_2021 = unique_orders_2021.dropna(subset=['OrderTotal'])\n",
        "\n",
        "# Calcular el total gastado por cada cliente\n",
        "customer_totals = unique_orders_2021.groupby('CustomerID')['OrderTotal'].sum()\n",
        "\n",
        "# Encontrar el cliente que gastó más\n",
        "top_customer_id = customer_totals.idxmax()\n",
        "top_customer_total = customer_totals.max()\n",
        "\n",
        "# Buscar nombre en datos de clientes\n",
        "df2.set_index('CustomerID', inplace=True)\n",
        "customer_name = df2.loc[top_customer_id, 'FirstName'] + ' ' + df2.loc[top_customer_id, 'LastName']\n",
        "\n",
        "print(f\"Pregunta #5: El cliente que gastó más en 2021 es el Cliente: {customer_name} ID: {top_customer_id} con un total de ${top_customer_total:.2f}\")\n",
        "\n",
        "# Obtener pedidos únicos para evitar duplicados en 'OrderTotal'\n",
        "unique_orders_mm = df[['OrderID', 'Date', 'OrderTotal']].drop_duplicates()\n",
        "\n",
        "# Crear columna 'Month' para representar el mes\n",
        "unique_orders_mm['Month'] = unique_orders_mm['Date'].dt.month_name()\n",
        "\n",
        "# Calcular ventas totales por mes\n",
        "monthly_sales = unique_orders_mm.groupby('Month')['OrderTotal'].sum()\n",
        "\n",
        "# Ordenar los meses en orden cronológico\n",
        "from calendar import month_name\n",
        "month_order = list(month_name)[1:]  # ['January', 'February', ..., 'December']\n",
        "monthly_sales = monthly_sales.reindex(month_order)\n",
        "\n",
        "# Reemplazar NaN por 0 (en caso de que algún mes no tenga ventas)\n",
        "monthly_sales = monthly_sales.fillna(0)\n",
        "\n",
        "# Encontrar el mes con mayores ventas\n",
        "best_month = monthly_sales.idxmax()\n",
        "best_month_total = monthly_sales.max()\n",
        "\n",
        "#print(\"Ventas totales por mes:\")\n",
        "#print(monthly_sales)\n",
        "\n",
        "print(f\"Pregunta #6: Históricamente, el mejor mes en ventas es {best_month} con un total de ${best_month_total:.2f}\")\n",
        "\n",
        "#Bonus\n",
        "\n",
        "# Obtener pedidos únicos para evitar duplicados en 'OrderTotal'\n",
        "unique_orders_mmyyyy = df[['OrderID', 'Date', 'OrderTotal']].drop_duplicates()\n",
        "\n",
        "# Crear columna 'MonthYear' para agrupar por mes y año\n",
        "unique_orders_mmyyyy['MonthYear'] = unique_orders_mmyyyy['Date'].dt.to_period('M')\n",
        "\n",
        "# Calcular ventas totales por mes\n",
        "monthly_sales = unique_orders_mmyyyy.groupby('MonthYear')['OrderTotal'].sum()\n",
        "\n",
        "# Encontrar el mes con mayores ventas\n",
        "best_month = monthly_sales.idxmax()\n",
        "best_month_total = monthly_sales.max()\n",
        "\n",
        "print(f\"\\nBonus: Históricamente, el mejor mes y año en ventas es {best_month} con un total de ${best_month_total:.2f}\")\n"
      ]
    },
    {
      "cell_type": "markdown",
      "metadata": {
        "id": "ie0JW4FAk6Os"
      },
      "source": [
        "# Finished!\n",
        "\n",
        "Hope this was not too difficult and slicing and dicing the datasets was some fun. Now head on back to the course and provide the answers to the questions from this exercise."
      ]
    }
  ],
  "metadata": {
    "colab": {
      "provenance": [],
      "include_colab_link": true
    },
    "kernelspec": {
      "display_name": "Python 3 (ipykernel)",
      "language": "python",
      "name": "python3"
    },
    "language_info": {
      "codemirror_mode": {
        "name": "ipython",
        "version": 3
      },
      "file_extension": ".py",
      "mimetype": "text/x-python",
      "name": "python",
      "nbconvert_exporter": "python",
      "pygments_lexer": "ipython3",
      "version": "3.9.9"
    }
  },
  "nbformat": 4,
  "nbformat_minor": 0
}