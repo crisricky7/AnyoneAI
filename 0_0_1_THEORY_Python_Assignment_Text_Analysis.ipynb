{
  "nbformat": 4,
  "nbformat_minor": 0,
  "metadata": {
    "colab": {
      "provenance": [],
      "include_colab_link": true
    },
    "kernelspec": {
      "name": "python3",
      "display_name": "Python 3"
    },
    "language_info": {
      "name": "python"
    }
  },
  "cells": [
    {
      "cell_type": "markdown",
      "metadata": {
        "id": "view-in-github",
        "colab_type": "text"
      },
      "source": [
        "<a href=\"https://colab.research.google.com/github/crisricky7/AnyoneAI/blob/main/0_0_1_THEORY_Python_Assignment_Text_Analysis.ipynb\" target=\"_parent\"><img src=\"https://colab.research.google.com/assets/colab-badge.svg\" alt=\"Open In Colab\"/></a>"
      ]
    },
    {
      "cell_type": "markdown",
      "source": [
        "### Download the dataset"
      ],
      "metadata": {
        "id": "HpbE0wL5bGvc"
      }
    },
    {
      "cell_type": "code",
      "execution_count": null,
      "metadata": {
        "id": "9L7CnU3KjCUe",
        "colab": {
          "base_uri": "https://localhost:8080/"
        },
        "outputId": "d520058a-8381-42bf-9bb6-75de6fba95dd"
      },
      "outputs": [
        {
          "output_type": "stream",
          "name": "stdout",
          "text": [
            "Downloading...\n",
            "From (original): https://drive.google.com/uc?id=1UOF-7R5MHXTQcCPp7rPMZTFZZSCmKzko\n",
            "From (redirected): https://drive.google.com/uc?id=1UOF-7R5MHXTQcCPp7rPMZTFZZSCmKzko&confirm=t&uuid=56383e00-1ba6-495c-a7d6-68f72546bf01\n",
            "To: /content/registered-names-1922-2015.csv\n",
            "100% 221M/221M [00:02<00:00, 97.7MB/s]\n"
          ]
        }
      ],
      "source": [
        "!gdown 1UOF-7R5MHXTQcCPp7rPMZTFZZSCmKzko"
      ]
    },
    {
      "cell_type": "markdown",
      "source": [
        "### Load the dataset"
      ],
      "metadata": {
        "id": "WOPUwmqhbLjm"
      }
    },
    {
      "cell_type": "code",
      "source": [
        "import csv"
      ],
      "metadata": {
        "id": "jIY848NKjFoa"
      },
      "execution_count": null,
      "outputs": []
    },
    {
      "cell_type": "code",
      "source": [
        "import os\n",
        "os.getcwd()"
      ],
      "metadata": {
        "id": "CMJACzksxHfW",
        "colab": {
          "base_uri": "https://localhost:8080/",
          "height": 36
        },
        "outputId": "b970a24a-fea2-4b32-ba0b-359157a96faf"
      },
      "execution_count": null,
      "outputs": [
        {
          "output_type": "execute_result",
          "data": {
            "text/plain": [
              "'/content'"
            ],
            "application/vnd.google.colaboratory.intrinsic+json": {
              "type": "string"
            }
          },
          "metadata": {},
          "execution_count": 3
        }
      ]
    },
    {
      "cell_type": "code",
      "source": [
        "# simply open it\n",
        "with open(\"/content/registered-names-1922-2015.csv\") as csvfile:\n",
        "    reader = csv.DictReader(csvfile)\n",
        "\n",
        "    count = 10\n",
        "    for idx, row in enumerate(reader):\n",
        "        print(row)\n",
        "        if idx == count:\n",
        "            break\n"
      ],
      "metadata": {
        "id": "ld7XbhH3jFlg",
        "colab": {
          "base_uri": "https://localhost:8080/"
        },
        "outputId": "0cd66711-dfcf-4d98-d71b-f58457916770"
      },
      "execution_count": null,
      "outputs": [
        {
          "output_type": "stream",
          "name": "stdout",
          "text": [
            "{'name': 'Maria', 'count': '314', 'year': '1922'}\n",
            "{'name': 'Rosa', 'count': '203', 'year': '1922'}\n",
            "{'name': 'Jose', 'count': '163', 'year': '1922'}\n",
            "{'name': 'Maria Luisa', 'count': '127', 'year': '1922'}\n",
            "{'name': 'Carmen', 'count': '117', 'year': '1922'}\n",
            "{'name': 'Ana', 'count': '113', 'year': '1922'}\n",
            "{'name': 'Maria Elena', 'count': '112', 'year': '1922'}\n",
            "{'name': 'Juana', 'count': '111', 'year': '1922'}\n",
            "{'name': 'Maria Esther', 'count': '109', 'year': '1922'}\n",
            "{'name': 'Antonio', 'count': '103', 'year': '1922'}\n",
            "{'name': 'Elena', 'count': '102', 'year': '1922'}\n"
          ]
        }
      ]
    },
    {
      "cell_type": "code",
      "source": [
        "# See the number of rows\n",
        "with open(\"/content/registered-names-1922-2015.csv\") as csvfile:\n",
        "    reader = csv.DictReader(csvfile)\n",
        "\n",
        "    count = 0\n",
        "    for row in reader:\n",
        "        count += 1\n",
        "    print(count)"
      ],
      "metadata": {
        "id": "pX3XNtu4cgmu",
        "colab": {
          "base_uri": "https://localhost:8080/"
        },
        "outputId": "1037740e-0f21-400e-d5e1-c56cf1652968"
      },
      "execution_count": null,
      "outputs": [
        {
          "output_type": "stream",
          "name": "stdout",
          "text": [
            "9761609\n"
          ]
        }
      ]
    },
    {
      "cell_type": "markdown",
      "source": [
        "How many people were registered each year?"
      ],
      "metadata": {
        "id": "p2-gNZdbwjGY"
      }
    },
    {
      "cell_type": "code",
      "source": [
        "years = {}\n",
        "\n",
        "with open(\"/content/registered-names-1922-2015.csv\") as csvfile:\n",
        "    reader = csv.DictReader(csvfile)\n",
        "\n",
        "    count = 100000\n",
        "    for idx, row in enumerate(reader):\n",
        "      registration_year = int(row[\"year\"])\n",
        "\n",
        "      if registration_year in years:\n",
        "        years[registration_year] += 1\n",
        "\n",
        "      else:\n",
        "        years[registration_year] = 1\n",
        "\n",
        "      if idx == count:\n",
        "        break\n"
      ],
      "metadata": {
        "id": "fUFxOa6mj-OD"
      },
      "execution_count": null,
      "outputs": []
    },
    {
      "cell_type": "code",
      "source": [
        "years"
      ],
      "metadata": {
        "colab": {
          "base_uri": "https://localhost:8080/"
        },
        "id": "UGx-ikgDfAVk",
        "outputId": "c37bf1f7-9a9d-434a-f812-e11753dc50d1"
      },
      "execution_count": null,
      "outputs": [
        {
          "output_type": "execute_result",
          "data": {
            "text/plain": [
              "{1922: 10333, 1923: 12777, 1924: 15981, 1925: 18796, 1926: 22172, 1927: 19942}"
            ]
          },
          "metadata": {},
          "execution_count": 7
        }
      ]
    },
    {
      "cell_type": "markdown",
      "source": [
        "What is the shortest name?"
      ],
      "metadata": {
        "id": "WCJ0KTpopWz7"
      }
    },
    {
      "cell_type": "code",
      "source": [
        "shortest_name = None\n",
        "shortest_len = 1000\n",
        "\n",
        "with open(\"/content/registered-names-1922-2015.csv\") as csvfile:\n",
        "    reader = csv.DictReader(csvfile)\n",
        "\n",
        "    for row in reader:\n",
        "      name = row[\"name\"]\n",
        "      if (name != \"\") and (len(name) < shortest_len):\n",
        "        shortest_name = name\n",
        "        print(name)\n",
        "        shortest_len = len(name)\n",
        "\n",
        "    print(f\"The shortest name is: {shortest_name}\")\n"
      ],
      "metadata": {
        "id": "7ZQ7H073o3U5",
        "colab": {
          "base_uri": "https://localhost:8080/"
        },
        "outputId": "b2833120-c50b-469d-87ec-8f0e0f55cd3f"
      },
      "execution_count": null,
      "outputs": [
        {
          "output_type": "stream",
          "name": "stdout",
          "text": [
            "Maria\n",
            "Rosa\n",
            "Ana\n",
            "Fé\n",
            "E\n",
            "The shortest name is: E\n"
          ]
        }
      ]
    },
    {
      "cell_type": "code",
      "source": [],
      "metadata": {
        "id": "AGXtaGMIfgCZ"
      },
      "execution_count": null,
      "outputs": []
    }
  ]
}